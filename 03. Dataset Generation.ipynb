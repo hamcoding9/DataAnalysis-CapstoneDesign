{
 "cells": [
  {
   "cell_type": "markdown",
   "id": "7ba1d9b4",
   "metadata": {},
   "source": [
    "# 03. Dataset 생성하기\n",
    "* 전처리를 완료한 txt 파일을 KoGPT2의 입력으로 사용하기 위해 한 문장씩 분절 및 태깅\n",
    "* 사용한 패키지: [한국어 문장 분리기](https://docs.likejazz.com/kss/)\n",
    "\n",
    "### 과정\n",
    "1) 문장 분리\n",
    "\n",
    "2) 한 줄씩 읽어 가면서 BOS, EOS 태그 붙이기"
   ]
  },
  {
   "cell_type": "markdown",
   "id": "f2d1b492",
   "metadata": {},
   "source": [
    "### 1. 문장 분리기 테스트"
   ]
  },
  {
   "cell_type": "code",
   "execution_count": 1,
   "id": "7883b66d",
   "metadata": {},
   "outputs": [],
   "source": [
    "import kss"
   ]
  },
  {
   "cell_type": "code",
   "execution_count": 12,
   "id": "145f2b35",
   "metadata": {
    "scrolled": true
   },
   "outputs": [
    {
     "name": "stderr",
     "output_type": "stream",
     "text": [
      "[Korean Sentence Splitter]: Initializing Pynori...\n"
     ]
    },
    {
     "name": "stdout",
     "output_type": "stream",
     "text": [
      "회사 동료 분들과 다녀왔는데 분위기도 좋고 음식도 맛있었어요\n",
      "다만, 강남 토끼정이 강남 쉑쉑버거 골목길로 쭉 올라가야 하는데 다들 쉑쉑버거의 유혹에 넘어갈 뻔 했답니다 강남역 맛집 토끼정의 외부 모습.\n"
     ]
    }
   ],
   "source": [
    "s = \"회사 동료 분들과 다녀왔는데 분위기도 좋고 음식도 맛있었어요 다만, 강남 토끼정이 강남 쉑쉑버거 골목길로 쭉 올라가야 하는데 다들 쉑쉑버거의 유혹에 넘어갈 뻔 했답니다 강남역 맛집 토끼정의 외부 모습.\"\n",
    "for sent in kss.split_sentences(s):\n",
    "    print(sent)"
   ]
  },
  {
   "cell_type": "markdown",
   "id": "6f4da7dd",
   "metadata": {},
   "source": [
    "### 2. 데이터 불러오기"
   ]
  },
  {
   "cell_type": "code",
   "execution_count": 2,
   "id": "a6987903",
   "metadata": {},
   "outputs": [],
   "source": [
    "import pandas as pd"
   ]
  },
  {
   "cell_type": "code",
   "execution_count": 1,
   "id": "826edb4e",
   "metadata": {},
   "outputs": [],
   "source": [
    "# 1) 포스타입\n",
    "ptype = pd.read_csv(r'C:\\Users\\Dora\\Desktop\\경희대학교\\22-1 데분캡스톤디자인\\01.Crawling\\total_postype.csv', \n",
    "                    encoding='utf-8-sig', names = ['title', 'contents'])"
   ]
  },
  {
   "cell_type": "code",
   "execution_count": 2,
   "id": "1651b967",
   "metadata": {},
   "outputs": [
    {
     "data": {
      "text/plain": [
       "408"
      ]
     },
     "execution_count": 2,
     "metadata": {},
     "output_type": "execute_result"
    }
   ],
   "source": [
    "len(ptype)"
   ]
  },
  {
   "cell_type": "code",
   "execution_count": 3,
   "id": "229ac9cc",
   "metadata": {},
   "outputs": [],
   "source": [
    "# 2) 글틴\n",
    "teen = pd.read_csv(r'C:\\Users\\Dora\\Desktop\\경희대학교\\22-1 데분캡스톤디자인\\01.Crawling\\total_teenpage.csv', \n",
    "                 encoding='utf-8-sig', names = ['title', 'contents'])\n",
    "teen['contents'] = teen['contents'].str.replace(\"\\r\\n\",\" \")"
   ]
  },
  {
   "cell_type": "code",
   "execution_count": 4,
   "id": "d4ef4b43",
   "metadata": {},
   "outputs": [
    {
     "data": {
      "text/plain": [
       "7725"
      ]
     },
     "execution_count": 4,
     "metadata": {},
     "output_type": "execute_result"
    }
   ],
   "source": [
    "len(teen)\n",
    "# 총 7725편의 시가 수록되어 있음"
   ]
  },
  {
   "cell_type": "markdown",
   "id": "f4dbfcd5",
   "metadata": {},
   "source": [
    "### 3. 문장 분리 및 태깅"
   ]
  },
  {
   "cell_type": "code",
   "execution_count": 5,
   "id": "bce5d60f",
   "metadata": {},
   "outputs": [],
   "source": [
    "bos_token='<s>'\n",
    "eos_token='</s>'"
   ]
  },
  {
   "cell_type": "code",
   "execution_count": 6,
   "id": "617a6415",
   "metadata": {},
   "outputs": [],
   "source": [
    "def PoetryDataset(Dataset):\n",
    "    # 빈칸이면 그대로 두기\n",
    "    if Dataset is None:\n",
    "        return Dataset\n",
    "    text = ''\n",
    "    Dataset = str(Dataset)\n",
    "    for sentence in kss.split_sentences(Dataset):\n",
    "        sent = bos_token + sentence + eos_token\n",
    "        text += sent\n",
    "    return text"
   ]
  },
  {
   "cell_type": "code",
   "execution_count": 10,
   "id": "203a030f",
   "metadata": {},
   "outputs": [
    {
     "name": "stderr",
     "output_type": "stream",
     "text": [
      "[Korean Sentence Splitter]: Initializing Pynori...\n"
     ]
    },
    {
     "name": "stdout",
     "output_type": "stream",
     "text": [
      "\n"
     ]
    }
   ],
   "source": [
    "s = ''\n",
    "print(PoetryDataset(s))"
   ]
  },
  {
   "cell_type": "code",
   "execution_count": 9,
   "id": "b77829fa",
   "metadata": {},
   "outputs": [
    {
     "name": "stdout",
     "output_type": "stream",
     "text": [
      "<s>회사 동료 분들과 다녀왔는데 분위기도 좋고 음식도 맛있었어요</s><s>다만, 강남 토끼정이 강남 쉑쉑버거 골목길로 쭉 올라가야 하는데 다들 쉑쉑버거의 유혹에 넘어갈 뻔 했답니다 강남역 맛집 토끼정의 외부 모습.</s>\n"
     ]
    }
   ],
   "source": [
    "print(PoetryDataset(s))"
   ]
  },
  {
   "cell_type": "markdown",
   "id": "adb8bae0",
   "metadata": {},
   "source": [
    "### - 포스타입"
   ]
  },
  {
   "cell_type": "code",
   "execution_count": 10,
   "id": "ce59fbbd",
   "metadata": {},
   "outputs": [],
   "source": [
    "ptype['contents'] = ptype['contents'].apply(PoetryDataset)"
   ]
  },
  {
   "cell_type": "code",
   "execution_count": 19,
   "id": "c268bd2d",
   "metadata": {},
   "outputs": [
    {
     "data": {
      "text/plain": [
       "'<s>비는 동그랍니다.</s><s>동글동글하게 내려 앉습니다.</s><s>눈은 뾰족합니다.</s><s>뾰족뾰족하게 뭉쳐 내립니다.</s><s>저는 그래서 비가 좋습니다.</s><s>비는 동그랗게 하나로 모아 감싸줍니다.</s><s>저는 그래서 눈이 싫습니다.</s><s>눈은 뾰족하게 흐트러 뜨려 방해합니다. 하지만 세상을 하얗게 만드는 것은 눈. 하지만 세상을 물들이는 것은 비. 비는 금방 흐릅니다.</s><s>손에 쥘 새도 없이 사라집니다.</s><s>눈은 금방 뭉칩니다. 손에 쥐면 단단히 뭉쳐있습니다.</s><s>저는 그래서 눈이 좋습니다.</s><s>눈은 단단하게 사람을 받쳐줍니다.</s><s>저는 그래서 비가 싫습니다.</s><s>비는 단단한 사람도 무너지게 만듭니다. 하지만 생명을 적시는 것은 비. 하지만 생명을 잠 재우는 것은 눈. 비는 투명합니다.</s><s>속이 다 비치는 투명입니다.</s><s>눈은 하얗습니다.</s><s>속이 보이지 않는 불투명입니다.</s><s>저는 그래서 비가 좋습니다.</s><s>비는 투명해서 어떤 것인지 잘 보입니다.</s><s>저는 그래서 눈이 싫습니다.</s><s>눈은 불투명 해서 무엇인지 잘 안 보입니다. 하지만 세상을 투명하게 하는 것은 눈. 하지만 세상의 색을 바꾸는 것은 비.</s>'"
      ]
     },
     "execution_count": 19,
     "metadata": {},
     "output_type": "execute_result"
    }
   ],
   "source": [
    "ptype['contents'][1]"
   ]
  },
  {
   "cell_type": "code",
   "execution_count": 14,
   "id": "00af4438",
   "metadata": {},
   "outputs": [],
   "source": [
    "with open(r'C:\\Users\\Dora\\Desktop\\경희대학교\\22-1 데분캡스톤디자인\\08.Dataset Preprocessing\\ptype.txt', 'w', encoding = 'utf-8-sig', newline = '') as f:\n",
    "    f.write(full_text)"
   ]
  },
  {
   "cell_type": "markdown",
   "id": "e1657680",
   "metadata": {},
   "source": [
    "### - 글틴"
   ]
  },
  {
   "cell_type": "code",
   "execution_count": 7,
   "id": "45e3436e",
   "metadata": {},
   "outputs": [],
   "source": [
    "import time"
   ]
  },
  {
   "cell_type": "code",
   "execution_count": 9,
   "id": "7f5cb802",
   "metadata": {
    "scrolled": true
   },
   "outputs": [
    {
     "name": "stderr",
     "output_type": "stream",
     "text": [
      "[Korean Sentence Splitter]: Initializing Pynori...\n"
     ]
    },
    {
     "name": "stdout",
     "output_type": "stream",
     "text": [
      "걸린 시간: 944.6743476390839\n"
     ]
    },
    {
     "name": "stderr",
     "output_type": "stream",
     "text": [
      "C:\\Users\\Dora\\AppData\\Local\\Temp\\ipykernel_4452\\3745127356.py:2: SettingWithCopyWarning: \n",
      "A value is trying to be set on a copy of a slice from a DataFrame.\n",
      "Try using .loc[row_indexer,col_indexer] = value instead\n",
      "\n",
      "See the caveats in the documentation: https://pandas.pydata.org/pandas-docs/stable/user_guide/indexing.html#returning-a-view-versus-a-copy\n",
      "  teen1['contents'] = teen1['contents'].apply(PoetryDataset)\n"
     ]
    }
   ],
   "source": [
    "start = time.time()\n",
    "teen['contents'] = teen['contents'].apply(PoetryDataset)\n",
    "end = time.time() - start\n",
    "print(\"걸린 시간: {}\".format(end))"
   ]
  },
  {
   "cell_type": "code",
   "execution_count": 10,
   "id": "cc4fbdcf",
   "metadata": {},
   "outputs": [],
   "source": [
    "full = \"\"\n",
    "for text in teen['contents']:\n",
    "    full += text"
   ]
  },
  {
   "cell_type": "code",
   "execution_count": 11,
   "id": "e5a62728",
   "metadata": {},
   "outputs": [],
   "source": [
    "f = open(\"teen.txt\", \"w\", encoding = 'utf-8')\n",
    "f.write(full)\n",
    "f.close()"
   ]
  }
 ],
 "metadata": {
  "kernelspec": {
   "display_name": "Python 3 (ipykernel)",
   "language": "python",
   "name": "python3"
  },
  "language_info": {
   "codemirror_mode": {
    "name": "ipython",
    "version": 3
   },
   "file_extension": ".py",
   "mimetype": "text/x-python",
   "name": "python",
   "nbconvert_exporter": "python",
   "pygments_lexer": "ipython3",
   "version": "3.10.2"
  }
 },
 "nbformat": 4,
 "nbformat_minor": 5
}
