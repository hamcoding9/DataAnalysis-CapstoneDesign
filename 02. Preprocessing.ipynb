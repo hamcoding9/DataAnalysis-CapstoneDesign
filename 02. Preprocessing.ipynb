{
 "cells": [
  {
   "cell_type": "markdown",
   "id": "ca897655",
   "metadata": {},
   "source": [
    "# 02. 크롤링해서 모은 Dataset 전처리하기\n",
    "* 진행한 날짜: 2022. 04. 06 ~ 2022. 04. 07\n",
    "\n",
    "### 01. 각 csv 파일 불러오기 및 간단한 전처리\n",
    "* 각 csv 파일에 맞게 간단한 전처리 수행\n",
    "* 공백 제거와 불필요한 문장 제거"
   ]
  },
  {
   "cell_type": "code",
   "execution_count": 1,
   "id": "717ccf64",
   "metadata": {},
   "outputs": [],
   "source": [
    "import pandas as pd\n",
    "import re\n",
    "path = r'C:\\Users\\Dora\\Desktop\\경희대학교\\22-1 데분캡스톤디자인\\01.Crawling\\\\'"
   ]
  },
  {
   "cell_type": "code",
   "execution_count": 2,
   "id": "9f0cbe03",
   "metadata": {
    "scrolled": true
   },
   "outputs": [
    {
     "data": {
      "text/html": [
       "<div>\n",
       "<style scoped>\n",
       "    .dataframe tbody tr th:only-of-type {\n",
       "        vertical-align: middle;\n",
       "    }\n",
       "\n",
       "    .dataframe tbody tr th {\n",
       "        vertical-align: top;\n",
       "    }\n",
       "\n",
       "    .dataframe thead th {\n",
       "        text-align: right;\n",
       "    }\n",
       "</style>\n",
       "<table border=\"1\" class=\"dataframe\">\n",
       "  <thead>\n",
       "    <tr style=\"text-align: right;\">\n",
       "      <th></th>\n",
       "      <th>title</th>\n",
       "      <th>contents</th>\n",
       "    </tr>\n",
       "  </thead>\n",
       "  <tbody>\n",
       "    <tr>\n",
       "      <th>0</th>\n",
       "      <td>눈물 찌꺼기</td>\n",
       "      <td>망가진 달 아래 서서 오늘의 그리움을 빚어낸다. 오늘의 꿈은 약간 씁쓸한 커피의 찌...</td>\n",
       "    </tr>\n",
       "    <tr>\n",
       "      <th>1</th>\n",
       "      <td>구름</td>\n",
       "      <td>비는 동그랍니다. 동글동글하게 내려 앉습니다. 눈은 뾰족합니다. 뾰족뾰족하게 뭉쳐 ...</td>\n",
       "    </tr>\n",
       "    <tr>\n",
       "      <th>2</th>\n",
       "      <td>언니는 볼품없는 글을 썼다.</td>\n",
       "      <td>언니는 같잖은 글을 썼는데, 대체로 재미가 없었다.    언니는 글을 누군가에게 좀...</td>\n",
       "    </tr>\n",
       "    <tr>\n",
       "      <th>3</th>\n",
       "      <td>처음으로 고양이를 떠나 보냈을 때.</td>\n",
       "      <td>삶에서의 상실은 흔하고 가까웠으면서 때로는 멀었다. 몇 가지 상실은 나를 구성했고 ...</td>\n",
       "    </tr>\n",
       "    <tr>\n",
       "      <th>4</th>\n",
       "      <td>고도를 기다리듯</td>\n",
       "      <td>잃어버린 문장을 찾았다. 오래 전에 핸드폰에 넣어두고 잊어버렸던 노래를 찾았다. 과...</td>\n",
       "    </tr>\n",
       "  </tbody>\n",
       "</table>\n",
       "</div>"
      ],
      "text/plain": [
       "                 title                                           contents\n",
       "0               눈물 찌꺼기  망가진 달 아래 서서 오늘의 그리움을 빚어낸다. 오늘의 꿈은 약간 씁쓸한 커피의 찌...\n",
       "1                   구름  비는 동그랍니다. 동글동글하게 내려 앉습니다. 눈은 뾰족합니다. 뾰족뾰족하게 뭉쳐 ...\n",
       "2      언니는 볼품없는 글을 썼다.  언니는 같잖은 글을 썼는데, 대체로 재미가 없었다.    언니는 글을 누군가에게 좀...\n",
       "3  처음으로 고양이를 떠나 보냈을 때.  삶에서의 상실은 흔하고 가까웠으면서 때로는 멀었다. 몇 가지 상실은 나를 구성했고 ...\n",
       "4             고도를 기다리듯  잃어버린 문장을 찾았다. 오래 전에 핸드폰에 넣어두고 잊어버렸던 노래를 찾았다. 과..."
      ]
     },
     "execution_count": 2,
     "metadata": {},
     "output_type": "execute_result"
    }
   ],
   "source": [
    "# 1) ptype\n",
    "ptype = pd.read_csv(path + 'total_postype.csv', encoding='utf-8-sig', names = ['title', 'contents'])\n",
    "\n",
    "def temp_preprocess(text):\n",
    "    text = str(text)\n",
    "    tlist = text.split('\\r\\n')\n",
    "    if tlist[-3] == '박하':\n",
    "        tlist = tlist[:-3]\n",
    "    else:\n",
    "        tlist = tlist[:-2]\n",
    "    text = ' '.join(tlist)\n",
    "    return text\n",
    "\n",
    "ptype['contents'] = ptype['contents'].apply(temp_preprocess)\n",
    "ptype.head()"
   ]
  },
  {
   "cell_type": "code",
   "execution_count": 3,
   "id": "35556e3a",
   "metadata": {},
   "outputs": [
    {
     "data": {
      "text/html": [
       "<div>\n",
       "<style scoped>\n",
       "    .dataframe tbody tr th:only-of-type {\n",
       "        vertical-align: middle;\n",
       "    }\n",
       "\n",
       "    .dataframe tbody tr th {\n",
       "        vertical-align: top;\n",
       "    }\n",
       "\n",
       "    .dataframe thead th {\n",
       "        text-align: right;\n",
       "    }\n",
       "</style>\n",
       "<table border=\"1\" class=\"dataframe\">\n",
       "  <thead>\n",
       "    <tr style=\"text-align: right;\">\n",
       "      <th></th>\n",
       "      <th>title</th>\n",
       "      <th>contents</th>\n",
       "    </tr>\n",
       "  </thead>\n",
       "  <tbody>\n",
       "    <tr>\n",
       "      <th>0</th>\n",
       "      <td>여행자의 봄</td>\n",
       "      <td>이 긴긴 여정의 첫발을 내디딘 뒤 난생 처음 함박눈이 가혹하다 여길 만큼 유난히 시...</td>\n",
       "    </tr>\n",
       "    <tr>\n",
       "      <th>1</th>\n",
       "      <td>물비늘 (퇴고)</td>\n",
       "      <td>나름대로 버티다가 수면에 이르러서 부서지는 불빛들을 감싸는 물살은 얼마나 부드럽고 ...</td>\n",
       "    </tr>\n",
       "    <tr>\n",
       "      <th>2</th>\n",
       "      <td>N에게</td>\n",
       "      <td>빛은 늘 무리지어 다녔지 한 움큼씩 잡히는 법 없이 그렇게 세게 공을 잡으면 아픈 ...</td>\n",
       "    </tr>\n",
       "    <tr>\n",
       "      <th>3</th>\n",
       "      <td>고여있다</td>\n",
       "      <td>오늘이 1cm 정도 남았다. 나는 오늘 너와 몇 mm 정도 가까워졌나. 네게 고인 ...</td>\n",
       "    </tr>\n",
       "    <tr>\n",
       "      <th>4</th>\n",
       "      <td>성 페레인의 완벽</td>\n",
       "      <td>강을 짊어지고 가노라. 나무들 사이로 불리면서도 가노라. 밟은 곳 물이 들이치며 발...</td>\n",
       "    </tr>\n",
       "  </tbody>\n",
       "</table>\n",
       "</div>"
      ],
      "text/plain": [
       "       title                                           contents\n",
       "0     여행자의 봄  이 긴긴 여정의 첫발을 내디딘 뒤 난생 처음 함박눈이 가혹하다 여길 만큼 유난히 시...\n",
       "1   물비늘 (퇴고)  나름대로 버티다가 수면에 이르러서 부서지는 불빛들을 감싸는 물살은 얼마나 부드럽고 ...\n",
       "2        N에게  빛은 늘 무리지어 다녔지 한 움큼씩 잡히는 법 없이 그렇게 세게 공을 잡으면 아픈 ...\n",
       "3       고여있다  오늘이 1cm 정도 남았다. 나는 오늘 너와 몇 mm 정도 가까워졌나. 네게 고인 ...\n",
       "4  성 페레인의 완벽  강을 짊어지고 가노라. 나무들 사이로 불리면서도 가노라. 밟은 곳 물이 들이치며 발..."
      ]
     },
     "execution_count": 3,
     "metadata": {},
     "output_type": "execute_result"
    }
   ],
   "source": [
    "# 2) 글틴\n",
    "teen =  pd.read_csv(path + 'total_teenpage.csv', encoding='utf-8-sig', names = ['title', 'contents'])\n",
    "teen['contents'] = teen['contents'].str.replace(\"\\r\\n\",\" \")\n",
    "teen.head()"
   ]
  },
  {
   "cell_type": "markdown",
   "id": "42efe17e",
   "metadata": {},
   "source": [
    "### 02. 전처리 함수 \n",
    "* 띄어쓰기 이상의 공백 제거\n",
    "* 자모음 제거\n",
    "* 특수 문자 중 `. , ? ! ' \"` 제외하고 제거\n",
    "* 숫자와 영어는 살린다. 국어로 된 시에서 사용된 숫자와 영어는 나름의 의미를 가지며 글맛을 살림."
   ]
  },
  {
   "cell_type": "code",
   "execution_count": 4,
   "id": "c64071b8",
   "metadata": {},
   "outputs": [],
   "source": [
    "def preprocessing(text):\n",
    "    r = re.compile(' +')\n",
    "    text = r.sub(' ', str(text))\n",
    "    r = re.compile('[ㄱ-ㅣ]+')\n",
    "    text = r.sub('', str(text))\n",
    "    r = re.compile('[^가-힣 0-9 a-z A-Z \\. \\, \\? \\! \\' \\\"]+')\n",
    "    text = r.sub('', str(text))\n",
    "    return text"
   ]
  },
  {
   "cell_type": "code",
   "execution_count": 5,
   "id": "448adb3d",
   "metadata": {},
   "outputs": [],
   "source": [
    "ptype['contents'] = ptype['contents'].apply(preprocessing)\n",
    "teen['contents'] = teen['contents'].apply(preprocessing)"
   ]
  },
  {
   "cell_type": "code",
   "execution_count": 6,
   "id": "9e4ccab6",
   "metadata": {
    "scrolled": false
   },
   "outputs": [
    {
     "data": {
      "text/plain": [
       "'내 아픔이 당신에게 자그마한 동정심이라도 가져다줄 수 있다면 기꺼이 내 다리 하나를 꺾어 고스란히 내어줄게요 그 얄랑한 마음 한 자락에 풀이 꺾이는 나인데, 당신은 그런 내 처절함조차 딛고 일어서려나요 인간의 본질은 결코 변하지 않는다고 몇 번이나 되새김질하며 꼭꼭 씹어 삼켰거만, 심장 끄트머리 검붉은 응어리에서 새어 나오는 작은 소망은 차마 삼키지 못하고 뱉어버렸는데요 마주하는 환멸의 빛은 지극히 비관적이라 잘게 부서진 소망을 훔쳐 안고 빛의 갈무리 안으로 뛰어들었어요 유구한 감정을 가르고 또 갈라 감히 애정이라 이름할 수 없는 감정조차 축약해 보려는데 무정한 당신은 이 짓마저 짓밟아 주시려나요 치맛자락에 훔친 눈물 몇 방울은 당신이 자주 흥얼거리던 이름 모를 노래 한 구절에 어그러져 빛바랜 지 오래고, 머릿속에서 끊임없이 유영하던 단어 몇 마디는 당신의 무례한 자취 하나에 까무룩 잠들어 버렸는걸요 저는 한때 보았던 영화의 여주인공처럼 비련에 맞설 자신이야 없어서요, 당신의 눈동자 깊은 곳, 음영이 진 곳을 넘으면 그제야 낯을 보이는 새하얀 별 무리를 머리 위에 띄우고는 빛망울을 가득 담은 맑은 호수 속에 잠겨 영영 눈을 감을게요 비참했던 나의, 당신에 의한 마음을 호수 깊은 곳에 잠식시키고는 조용히 애도할게요 아, 붉은 빛을 투영하는 제 소망 하나를 언젠가 깨닫게 되신다면, 그리고 저를 잠시나마 추억해 주신다면, 투신한 제 마음을 애도해 주시고는 자그마한 소망 하나는 영영 기억해 주시되 그대로 짓이겨 주시겠어요'"
      ]
     },
     "execution_count": 6,
     "metadata": {},
     "output_type": "execute_result"
    }
   ],
   "source": [
    "ptype['contents'][40]"
   ]
  },
  {
   "cell_type": "code",
   "execution_count": 7,
   "id": "7c825696",
   "metadata": {},
   "outputs": [
    {
     "data": {
      "text/plain": [
       "'당신과 천오백구십번 째 만나던 날 나는 길을 잃었다 천오백구십 번 지났던 거리가 도로가, 풍경이 어려워서 가로등 아래 멈추어 울고 있는데, 당신은 그날 거기서 날 기다렸는가 왜 안 오나 하염없이 창밖을 내다보다가 눈이 내려 밖으로 나섰는가 내가 눈을 맞을까 봐 걱정해서 우산을 챙겼는가 카페 테이블에 다 식은 레몬티 한 잔도 남겨두고 왜 날 찾으러 나왔나 천오백구십번 째 당신이 나를 찾던 날 나는 나를 타박하지 않는 당신이 너무 슬펐어'"
      ]
     },
     "execution_count": 7,
     "metadata": {},
     "output_type": "execute_result"
    }
   ],
   "source": [
    "teen['contents'][809]"
   ]
  },
  {
   "cell_type": "markdown",
   "id": "27f9ea11",
   "metadata": {},
   "source": [
    "### 03. 두 Dataset을 합쳐서 하나의 txt 파일 생성"
   ]
  },
  {
   "cell_type": "code",
   "execution_count": 11,
   "id": "9caf9a3a",
   "metadata": {},
   "outputs": [],
   "source": [
    "txt = ''\n",
    "for i in range(len(ptype)):\n",
    "    txt += ptype['contents'][i]\n",
    "for i in range(len(teen)):\n",
    "    txt += teen['contents'][i]"
   ]
  },
  {
   "cell_type": "code",
   "execution_count": 12,
   "id": "04ae10ba",
   "metadata": {},
   "outputs": [
    {
     "data": {
      "text/plain": [
       "3199689"
      ]
     },
     "execution_count": 12,
     "metadata": {},
     "output_type": "execute_result"
    }
   ],
   "source": [
    "len(txt)"
   ]
  },
  {
   "cell_type": "code",
   "execution_count": 13,
   "id": "b1ebac61",
   "metadata": {},
   "outputs": [],
   "source": [
    "f = open(path + 'poetry.txt', 'w', encoding='utf-8')\n",
    "f.write(txt)\n",
    "f.close()"
   ]
  },
  {
   "cell_type": "code",
   "execution_count": 15,
   "id": "59e920f8",
   "metadata": {},
   "outputs": [],
   "source": [
    "short_txt = txt[:1000000]\n",
    "f = open(path + 'shortdata.txt', 'w', encoding='utf-8')\n",
    "f.write(short_txt)\n",
    "f.close()"
   ]
  }
 ],
 "metadata": {
  "kernelspec": {
   "display_name": "Python 3 (ipykernel)",
   "language": "python",
   "name": "python3"
  },
  "language_info": {
   "codemirror_mode": {
    "name": "ipython",
    "version": 3
   },
   "file_extension": ".py",
   "mimetype": "text/x-python",
   "name": "python",
   "nbconvert_exporter": "python",
   "pygments_lexer": "ipython3",
   "version": "3.10.2"
  }
 },
 "nbformat": 4,
 "nbformat_minor": 5
}
